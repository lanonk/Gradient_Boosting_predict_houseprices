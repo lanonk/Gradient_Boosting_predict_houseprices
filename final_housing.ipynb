{
  "nbformat": 4,
  "nbformat_minor": 0,
  "metadata": {
    "colab": {
      "name": "final_housing.ipynb",
      "provenance": [],
      "collapsed_sections": [],
      "toc_visible": true,
      "include_colab_link": true
    },
    "kernelspec": {
      "name": "python3",
      "display_name": "Python 3"
    }
  },
  "cells": [
    {
      "cell_type": "markdown",
      "metadata": {
        "id": "view-in-github",
        "colab_type": "text"
      },
      "source": [
        "<a href=\"https://colab.research.google.com/github/lanonk/Gradient_Boosting_predict_houseprices/blob/main/final_housing.ipynb\" target=\"_parent\"><img src=\"https://colab.research.google.com/assets/colab-badge.svg\" alt=\"Open In Colab\"/></a>"
      ]
    },
    {
      "cell_type": "code",
      "metadata": {
        "id": "mA0HPVmIBT4C"
      },
      "source": [
        "import pandas as pd\n",
        "\n",
        "housing = pd.read_csv('https://raw.githubusercontent.com/byui-cse/cse450-course/master/data/housing.csv')\n",
        "\n",
        "# https://scikit-learn.org/stable/auto_examples/ensemble/plot_gradient_boosting_regression.html#sphx-glr-auto-examples-ensemble-plot-gradient-boosting-regression-py"
      ],
      "execution_count": null,
      "outputs": []
    },
    {
      "cell_type": "code",
      "metadata": {
        "colab": {
          "base_uri": "https://localhost:8080/"
        },
        "id": "NgL5jopAfRLL",
        "outputId": "4f3b7a13-bca6-4d5b-a07e-f8a3779bc7b7"
      },
      "source": [
        "housing.info()"
      ],
      "execution_count": null,
      "outputs": [
        {
          "output_type": "stream",
          "text": [
            "<class 'pandas.core.frame.DataFrame'>\n",
            "RangeIndex: 20000 entries, 0 to 19999\n",
            "Data columns (total 21 columns):\n",
            " #   Column         Non-Null Count  Dtype  \n",
            "---  ------         --------------  -----  \n",
            " 0   id             20000 non-null  int64  \n",
            " 1   date           20000 non-null  object \n",
            " 2   bedrooms       20000 non-null  int64  \n",
            " 3   bathrooms      20000 non-null  float64\n",
            " 4   sqft_living    20000 non-null  int64  \n",
            " 5   sqft_lot       20000 non-null  int64  \n",
            " 6   floors         20000 non-null  float64\n",
            " 7   waterfront     20000 non-null  int64  \n",
            " 8   view           20000 non-null  int64  \n",
            " 9   condition      20000 non-null  int64  \n",
            " 10  grade          20000 non-null  int64  \n",
            " 11  sqft_above     20000 non-null  int64  \n",
            " 12  sqft_basement  20000 non-null  int64  \n",
            " 13  yr_built       20000 non-null  int64  \n",
            " 14  yr_renovated   20000 non-null  int64  \n",
            " 15  zipcode        20000 non-null  int64  \n",
            " 16  lat            20000 non-null  float64\n",
            " 17  long           20000 non-null  float64\n",
            " 18  sqft_living15  20000 non-null  int64  \n",
            " 19  sqft_lot15     20000 non-null  int64  \n",
            " 20  price          20000 non-null  float64\n",
            "dtypes: float64(5), int64(15), object(1)\n",
            "memory usage: 3.2+ MB\n"
          ],
          "name": "stdout"
        }
      ]
    },
    {
      "cell_type": "code",
      "metadata": {
        "colab": {
          "base_uri": "https://localhost:8080/"
        },
        "id": "AvzqL_JGhf0p",
        "outputId": "d47093fb-94b4-4ddd-e768-8e2f52f130ed"
      },
      "source": [
        "housing.isnull().sum(axis=0)"
      ],
      "execution_count": null,
      "outputs": [
        {
          "output_type": "execute_result",
          "data": {
            "text/plain": [
              "id               0\n",
              "date             0\n",
              "bedrooms         0\n",
              "bathrooms        0\n",
              "sqft_living      0\n",
              "sqft_lot         0\n",
              "floors           0\n",
              "waterfront       0\n",
              "view             0\n",
              "condition        0\n",
              "grade            0\n",
              "sqft_above       0\n",
              "sqft_basement    0\n",
              "yr_built         0\n",
              "yr_renovated     0\n",
              "zipcode          0\n",
              "lat              0\n",
              "long             0\n",
              "sqft_living15    0\n",
              "sqft_lot15       0\n",
              "price            0\n",
              "dtype: int64"
            ]
          },
          "metadata": {
            "tags": []
          },
          "execution_count": 3
        }
      ]
    },
    {
      "cell_type": "code",
      "metadata": {
        "id": "StiU5QcPPxqQ"
      },
      "source": [
        "features = housing[[\"bedrooms\",\"bathrooms\",\"sqft_living\",\"sqft_lot\",\"price\"]]"
      ],
      "execution_count": null,
      "outputs": []
    },
    {
      "cell_type": "code",
      "metadata": {
        "colab": {
          "base_uri": "https://localhost:8080/"
        },
        "id": "ML5F-duNEUlY",
        "outputId": "fb018a20-6c31-495c-dade-f39b8f9aabfb"
      },
      "source": [
        "housing.head()\n",
        "len(housing)"
      ],
      "execution_count": null,
      "outputs": [
        {
          "output_type": "execute_result",
          "data": {
            "text/plain": [
              "20000"
            ]
          },
          "metadata": {
            "tags": []
          },
          "execution_count": 5
        }
      ]
    },
    {
      "cell_type": "code",
      "metadata": {
        "id": "ALLMN63FPyEQ"
      },
      "source": [
        "# import matplotlib.pyplot as plt\n",
        "# features.hist(bins=10, figsize=(20,15))\n",
        "# plt.show()"
      ],
      "execution_count": null,
      "outputs": []
    },
    {
      "cell_type": "markdown",
      "metadata": {
        "id": "YaSPXG4_nFL7"
      },
      "source": [
        "### Indentifying some Correlations"
      ]
    },
    {
      "cell_type": "code",
      "metadata": {
        "id": "RnGBwGVZPyyh",
        "colab": {
          "base_uri": "https://localhost:8080/",
          "height": 443
        },
        "outputId": "925f43d1-b96e-4d33-90cf-7e3a036cd840"
      },
      "source": [
        "import altair as alt\n",
        "correlated_with_price = pd.DataFrame(housing.corr().price).reset_index()\n",
        "# correlated_with_price\n",
        "alt.Chart(correlated_with_price.drop([19])).mark_bar().encode(\n",
        "    alt.Y(\"index\", sort = \"-x\"),\n",
        "    alt.X(\"price\")\n",
        ").properties(width=500)\n",
        "\n"
      ],
      "execution_count": null,
      "outputs": [
        {
          "output_type": "execute_result",
          "data": {
            "text/plain": [
              "alt.Chart(...)"
            ],
            "text/html": [
              "\n",
              "<div id=\"altair-viz-c6b154cc05284feebdf30b8fde31c2b9\"></div>\n",
              "<script type=\"text/javascript\">\n",
              "  (function(spec, embedOpt){\n",
              "    let outputDiv = document.currentScript.previousElementSibling;\n",
              "    if (outputDiv.id !== \"altair-viz-c6b154cc05284feebdf30b8fde31c2b9\") {\n",
              "      outputDiv = document.getElementById(\"altair-viz-c6b154cc05284feebdf30b8fde31c2b9\");\n",
              "    }\n",
              "    const paths = {\n",
              "      \"vega\": \"https://cdn.jsdelivr.net/npm//vega@5?noext\",\n",
              "      \"vega-lib\": \"https://cdn.jsdelivr.net/npm//vega-lib?noext\",\n",
              "      \"vega-lite\": \"https://cdn.jsdelivr.net/npm//vega-lite@4.8.1?noext\",\n",
              "      \"vega-embed\": \"https://cdn.jsdelivr.net/npm//vega-embed@6?noext\",\n",
              "    };\n",
              "\n",
              "    function loadScript(lib) {\n",
              "      return new Promise(function(resolve, reject) {\n",
              "        var s = document.createElement('script');\n",
              "        s.src = paths[lib];\n",
              "        s.async = true;\n",
              "        s.onload = () => resolve(paths[lib]);\n",
              "        s.onerror = () => reject(`Error loading script: ${paths[lib]}`);\n",
              "        document.getElementsByTagName(\"head\")[0].appendChild(s);\n",
              "      });\n",
              "    }\n",
              "\n",
              "    function showError(err) {\n",
              "      outputDiv.innerHTML = `<div class=\"error\" style=\"color:red;\">${err}</div>`;\n",
              "      throw err;\n",
              "    }\n",
              "\n",
              "    function displayChart(vegaEmbed) {\n",
              "      vegaEmbed(outputDiv, spec, embedOpt)\n",
              "        .catch(err => showError(`Javascript Error: ${err.message}<br>This usually means there's a typo in your chart specification. See the javascript console for the full traceback.`));\n",
              "    }\n",
              "\n",
              "    if(typeof define === \"function\" && define.amd) {\n",
              "      requirejs.config({paths});\n",
              "      require([\"vega-embed\"], displayChart, err => showError(`Error loading script: ${err.message}`));\n",
              "    } else if (typeof vegaEmbed === \"function\") {\n",
              "      displayChart(vegaEmbed);\n",
              "    } else {\n",
              "      loadScript(\"vega\")\n",
              "        .then(() => loadScript(\"vega-lite\"))\n",
              "        .then(() => loadScript(\"vega-embed\"))\n",
              "        .catch(showError)\n",
              "        .then(() => displayChart(vegaEmbed));\n",
              "    }\n",
              "  })({\"config\": {\"view\": {\"continuousWidth\": 400, \"continuousHeight\": 300}}, \"data\": {\"name\": \"data-8a9081843a24f829591a2c9e37a165c7\"}, \"mark\": \"bar\", \"encoding\": {\"x\": {\"type\": \"quantitative\", \"field\": \"price\"}, \"y\": {\"type\": \"nominal\", \"field\": \"index\", \"sort\": \"-x\"}}, \"width\": 500, \"$schema\": \"https://vega.github.io/schema/vega-lite/v4.8.1.json\", \"datasets\": {\"data-8a9081843a24f829591a2c9e37a165c7\": [{\"index\": \"id\", \"price\": -0.01608097696528476}, {\"index\": \"bedrooms\", \"price\": 0.30728080273648867}, {\"index\": \"bathrooms\", \"price\": 0.5279892842302282}, {\"index\": \"sqft_living\", \"price\": 0.7039201300634014}, {\"index\": \"sqft_lot\", \"price\": 0.09031682279367605}, {\"index\": \"floors\", \"price\": 0.2544275539283824}, {\"index\": \"waterfront\", \"price\": 0.26013317146776527}, {\"index\": \"view\", \"price\": 0.3959613490818472}, {\"index\": \"condition\", \"price\": 0.0351456336108543}, {\"index\": \"grade\", \"price\": 0.6664469631338598}, {\"index\": \"sqft_above\", \"price\": 0.6070819260548376}, {\"index\": \"sqft_basement\", \"price\": 0.3251834199610768}, {\"index\": \"yr_built\", \"price\": 0.05418718102636592}, {\"index\": \"yr_renovated\", \"price\": 0.12153392294759172}, {\"index\": \"zipcode\", \"price\": -0.055857382785275606}, {\"index\": \"lat\", \"price\": 0.3075157540346726}, {\"index\": \"long\", \"price\": 0.02397636297671799}, {\"index\": \"sqft_living15\", \"price\": 0.5853738353171702}, {\"index\": \"sqft_lot15\", \"price\": 0.08241318652305316}]}}, {\"mode\": \"vega-lite\"});\n",
              "</script>"
            ]
          },
          "metadata": {
            "tags": []
          },
          "execution_count": 41
        }
      ]
    },
    {
      "cell_type": "code",
      "metadata": {
        "colab": {
          "base_uri": "https://localhost:8080/",
          "height": 204
        },
        "id": "Es9k2pxO9ca9",
        "outputId": "7d00b2da-1ac1-431c-8c5c-e0abfaec0994"
      },
      "source": [
        "correlated_with_price.head()"
      ],
      "execution_count": null,
      "outputs": [
        {
          "output_type": "execute_result",
          "data": {
            "text/html": [
              "<div>\n",
              "<style scoped>\n",
              "    .dataframe tbody tr th:only-of-type {\n",
              "        vertical-align: middle;\n",
              "    }\n",
              "\n",
              "    .dataframe tbody tr th {\n",
              "        vertical-align: top;\n",
              "    }\n",
              "\n",
              "    .dataframe thead th {\n",
              "        text-align: right;\n",
              "    }\n",
              "</style>\n",
              "<table border=\"1\" class=\"dataframe\">\n",
              "  <thead>\n",
              "    <tr style=\"text-align: right;\">\n",
              "      <th></th>\n",
              "      <th>index</th>\n",
              "      <th>price</th>\n",
              "    </tr>\n",
              "  </thead>\n",
              "  <tbody>\n",
              "    <tr>\n",
              "      <th>0</th>\n",
              "      <td>id</td>\n",
              "      <td>-0.016081</td>\n",
              "    </tr>\n",
              "    <tr>\n",
              "      <th>1</th>\n",
              "      <td>bedrooms</td>\n",
              "      <td>0.307281</td>\n",
              "    </tr>\n",
              "    <tr>\n",
              "      <th>2</th>\n",
              "      <td>bathrooms</td>\n",
              "      <td>0.527989</td>\n",
              "    </tr>\n",
              "    <tr>\n",
              "      <th>3</th>\n",
              "      <td>sqft_living</td>\n",
              "      <td>0.703920</td>\n",
              "    </tr>\n",
              "    <tr>\n",
              "      <th>4</th>\n",
              "      <td>sqft_lot</td>\n",
              "      <td>0.090317</td>\n",
              "    </tr>\n",
              "  </tbody>\n",
              "</table>\n",
              "</div>"
            ],
            "text/plain": [
              "         index     price\n",
              "0           id -0.016081\n",
              "1     bedrooms  0.307281\n",
              "2    bathrooms  0.527989\n",
              "3  sqft_living  0.703920\n",
              "4     sqft_lot  0.090317"
            ]
          },
          "metadata": {
            "tags": []
          },
          "execution_count": 33
        }
      ]
    },
    {
      "cell_type": "code",
      "metadata": {
        "id": "JT3li1PIniYc"
      },
      "source": [
        "y = housing['price']\n",
        "x = housing.drop(['price','date'],axis=1)"
      ],
      "execution_count": null,
      "outputs": []
    },
    {
      "cell_type": "code",
      "metadata": {
        "colab": {
          "base_uri": "https://localhost:8080/"
        },
        "id": "5MYFlWJqm76i",
        "outputId": "87292b89-4957-40d3-fc3f-419c1ee59541"
      },
      "source": [
        "from sklearn.model_selection import train_test_split\n",
        "from sklearn.ensemble import RandomForestRegressor\n",
        "x_train, x_test, y_train, y_test = train_test_split(x, y, test_size = 0.3, random_state = 0)\n",
        "reg = RandomForestRegressor(n_estimators = 500, random_state = 0)\n",
        "reg.fit(x_train, y_train)\n"
      ],
      "execution_count": null,
      "outputs": [
        {
          "output_type": "execute_result",
          "data": {
            "text/plain": [
              "RandomForestRegressor(bootstrap=True, ccp_alpha=0.0, criterion='mse',\n",
              "                      max_depth=None, max_features='auto', max_leaf_nodes=None,\n",
              "                      max_samples=None, min_impurity_decrease=0.0,\n",
              "                      min_impurity_split=None, min_samples_leaf=1,\n",
              "                      min_samples_split=2, min_weight_fraction_leaf=0.0,\n",
              "                      n_estimators=500, n_jobs=None, oob_score=False,\n",
              "                      random_state=0, verbose=0, warm_start=False)"
            ]
          },
          "metadata": {
            "tags": []
          },
          "execution_count": 9
        }
      ]
    },
    {
      "cell_type": "code",
      "metadata": {
        "colab": {
          "base_uri": "https://localhost:8080/"
        },
        "id": "CzxgqKlDm7qj",
        "outputId": "db066ffc-23ef-4760-da01-6bbf5edcadce"
      },
      "source": [
        "y_train.mean()"
      ],
      "execution_count": null,
      "outputs": [
        {
          "output_type": "execute_result",
          "data": {
            "text/plain": [
              "537538.3835"
            ]
          },
          "metadata": {
            "tags": []
          },
          "execution_count": 22
        }
      ]
    },
    {
      "cell_type": "code",
      "metadata": {
        "colab": {
          "base_uri": "https://localhost:8080/"
        },
        "id": "7vouAfndZEiX",
        "outputId": "5ebee33a-34c8-4913-9213-1ec54ea32bbf"
      },
      "source": [
        "from sklearn.metrics import mean_squared_error\n",
        "from sklearn import datasets, ensemble\n",
        "params = {'n_estimators': 700,\n",
        "          'max_depth': 5,\n",
        "          'min_samples_split': 5,\n",
        "          'learning_rate': 0.01,\n",
        "          'loss': 'ls'}\n",
        "regs = ensemble.GradientBoostingRegressor(**params)\n",
        "regs.fit(x_train, y_train)\n",
        "rmse = mean_squared_error(y_test, regs.predict(x_test),squared=False)\n",
        "rmse"
      ],
      "execution_count": null,
      "outputs": [
        {
          "output_type": "execute_result",
          "data": {
            "text/plain": [
              "131853.9903063739"
            ]
          },
          "metadata": {
            "tags": []
          },
          "execution_count": 10
        }
      ]
    },
    {
      "cell_type": "code",
      "metadata": {
        "id": "u1VKrpol2Cby"
      },
      "source": [
        "# from math import sqrt\n",
        "\n",
        "# rms = sqrt(mean_squared_error(y_test, regs.predict(x_test))"
      ],
      "execution_count": null,
      "outputs": []
    },
    {
      "cell_type": "code",
      "metadata": {
        "id": "1hpLUlVGo7iD"
      },
      "source": [
        "y_pred = reg.predict(x_test)"
      ],
      "execution_count": null,
      "outputs": []
    },
    {
      "cell_type": "code",
      "metadata": {
        "colab": {
          "base_uri": "https://localhost:8080/"
        },
        "id": "A3ezYgBbpEEB",
        "outputId": "a5033cb6-02d7-4f10-ab58-9e8e640bbf4d"
      },
      "source": [
        "from sklearn.metrics import r2_score\n",
        "r2_score(y_test, y_pred)"
      ],
      "execution_count": null,
      "outputs": [
        {
          "output_type": "execute_result",
          "data": {
            "text/plain": [
              "0.8708415827766544"
            ]
          },
          "metadata": {
            "tags": []
          },
          "execution_count": 13
        }
      ]
    },
    {
      "cell_type": "code",
      "metadata": {
        "colab": {
          "base_uri": "https://localhost:8080/",
          "height": 441
        },
        "id": "zjMyf345pwR0",
        "outputId": "070aa613-fd40-499e-97e9-0f25b42f1a5d"
      },
      "source": [
        "import numpy as np\n",
        "import matplotlib.pyplot as plt\n",
        "\n",
        "test_score = np.zeros((params['n_estimators'],), dtype=np.float64)\n",
        "for i, y_pred in enumerate(regs.staged_predict(x_test)):\n",
        "    test_score[i] = regs.loss_(y_test, y_pred)\n",
        "\n",
        "fig = plt.figure(figsize=(6, 6))\n",
        "plt.subplot(1, 1, 1)\n",
        "plt.title('Deviance')\n",
        "plt.plot(np.arange(params['n_estimators']) + 1, regs.train_score_, 'b-',\n",
        "         label='Training Set Deviance')\n",
        "plt.plot(np.arange(params['n_estimators']) + 1, test_score, 'r-',\n",
        "         label='Test Set Deviance')\n",
        "plt.legend(loc='upper right')\n",
        "plt.xlabel('Boosting Iterations')\n",
        "plt.ylabel('Deviance')\n",
        "fig.tight_layout()\n",
        "plt.show()"
      ],
      "execution_count": null,
      "outputs": [
        {
          "output_type": "display_data",
          "data": {
            "image/png": "[encoded data removed]",
            "text/plain": [
              "<Figure size 432x432 with 1 Axes>"
            ]
          },
          "metadata": {
            "tags": [],
            "needs_background": "light"
          }
        }
      ]
    },
    {
      "cell_type": "markdown",
      "metadata": {
        "id": "Q_KU66L0oBXs"
      },
      "source": [
        "### XGBRegressor"
      ]
    },
    {
      "cell_type": "code",
      "metadata": {
        "colab": {
          "base_uri": "https://localhost:8080/"
        },
        "id": "YsnEMwZE2pES",
        "outputId": "3f3648d9-1a8c-40a1-de71-368bcf0c6f8f"
      },
      "source": [
        "from xgboost import XGBRegressor\n",
        "\n",
        "reg1 = XGBRegressor(objective=\"reg:squarederror\", colsample_bytree= 0.8, \n",
        "                    learning_rate= 0.095, max_depth= 5, min_child_weight= 3,\n",
        "                    n_estimators= 500, nthread= 4, silent= 1, subsample= 0.8)\n",
        "\n",
        "x1 = x\n",
        "y1 = y\n",
        "\n",
        "x_train1, x_test1, y_train1, y_test1 = train_test_split(x1, y1, test_size = 0.2, random_state = 0)\n",
        "\n",
        "\n",
        "reg1.fit(x_train1, y_train1)"
      ],
      "execution_count": null,
      "outputs": [
        {
          "output_type": "execute_result",
          "data": {
            "text/plain": [
              "XGBRegressor(base_score=0.5, booster='gbtree', colsample_bylevel=1,\n",
              "             colsample_bynode=1, colsample_bytree=0.8, gamma=0,\n",
              "             importance_type='gain', learning_rate=0.095, max_delta_step=0,\n",
              "             max_depth=5, min_child_weight=3, missing=None, n_estimators=500,\n",
              "             n_jobs=1, nthread=4, objective='reg:squarederror', random_state=0,\n",
              "             reg_alpha=0, reg_lambda=1, scale_pos_weight=1, seed=None, silent=1,\n",
              "             subsample=0.8, verbosity=1)"
            ]
          },
          "metadata": {
            "tags": []
          },
          "execution_count": 15
        }
      ]
    },
    {
      "cell_type": "code",
      "metadata": {
        "colab": {
          "base_uri": "https://localhost:8080/"
        },
        "id": "deXYvoes6-R5",
        "outputId": "5b1dcc7f-62b9-435f-8432-8dbfeb8c2e3c"
      },
      "source": [
        "y_pred1 = reg1.predict(x_test1)\n",
        "\n",
        "\n",
        "from sklearn.metrics import r2_score\n",
        "r2_score(y_test1, y_pred1)\n"
      ],
      "execution_count": null,
      "outputs": [
        {
          "output_type": "execute_result",
          "data": {
            "text/plain": [
              "0.9067046124564027"
            ]
          },
          "metadata": {
            "tags": []
          },
          "execution_count": 16
        }
      ]
    },
    {
      "cell_type": "code",
      "metadata": {
        "colab": {
          "base_uri": "https://localhost:8080/"
        },
        "id": "bxPNCV-LlK7H",
        "outputId": "d0f3195c-f83c-43af-8938-0b5e97a5c25c"
      },
      "source": [
        "from sklearn.metrics import mean_squared_error\n",
        "from sklearn import datasets, ensemble\n",
        "params = {'n_estimators': 500,\n",
        "          'max_depth': 9,\n",
        "          'min_samples_split': 5,\n",
        "          'learning_rate': 0.01,\n",
        "          'colsample_bytree': 0.7,\n",
        "          'loss': 'ls'}\n",
        "regs1 = XGBRegressor(objective=\"reg:squarederror\", colsample_bytree= 0.7, \n",
        "                    learning_rate= 0.095, max_depth= 5, min_child_weight= 3,\n",
        "                    n_estimators= 500, nthread= 4, silent= 1, subsample= 0.8)\n",
        "regs1.fit(x_train1, y_train1)\n",
        "rmse = mean_squared_error(y_test1, regs1.predict(x_test1),squared=False)\n",
        "rmse "
      ],
      "execution_count": null,
      "outputs": [
        {
          "output_type": "execute_result",
          "data": {
            "text/plain": [
              "112397.33276920901"
            ]
          },
          "metadata": {
            "tags": []
          },
          "execution_count": 17
        }
      ]
    },
    {
      "cell_type": "code",
      "metadata": {
        "colab": {
          "base_uri": "https://localhost:8080/"
        },
        "id": "UHncuTtG7iLT",
        "outputId": "0099a9fd-49e9-4815-d00d-b6f645de8dc8"
      },
      "source": [
        "from sklearn.metrics import mean_absolute_error\n",
        "mean_absolute_error(y_test1, y_pred1)\n"
      ],
      "execution_count": null,
      "outputs": [
        {
          "output_type": "execute_result",
          "data": {
            "text/plain": [
              "62702.25300585938"
            ]
          },
          "metadata": {
            "tags": []
          },
          "execution_count": 29
        }
      ]
    },
    {
      "cell_type": "code",
      "metadata": {
        "colab": {
          "base_uri": "https://localhost:8080/"
        },
        "id": "Ifz7AoPKnMRm",
        "outputId": "f9b66282-747f-4efa-c821-90ccb8138872"
      },
      "source": [
        "print(y_train1.mean())\n",
        "print(y_train1.median())\n",
        "\n",
        "y_train1.describe()"
      ],
      "execution_count": null,
      "outputs": [
        {
          "output_type": "stream",
          "text": [
            "538954.5196875\n",
            "450000.0\n"
          ],
          "name": "stdout"
        },
        {
          "output_type": "execute_result",
          "data": {
            "text/plain": [
              "count    1.600000e+04\n",
              "mean     5.389545e+05\n",
              "std      3.663915e+05\n",
              "min      7.500000e+04\n",
              "25%      3.200000e+05\n",
              "50%      4.500000e+05\n",
              "75%      6.400000e+05\n",
              "max      7.062500e+06\n",
              "Name: price, dtype: float64"
            ]
          },
          "metadata": {
            "tags": []
          },
          "execution_count": 28
        }
      ]
    },
    {
      "cell_type": "code",
      "metadata": {
        "id": "IorTcvkJjojc"
      },
      "source": [
        " p_housing = pd.read_csv(\"https://raw.githubusercontent.com/byui-cse/cse450-course/master/data/housing_holdout_test.csv\")\n",
        " p_housing.head()\n",
        "p_housing.drop(['date'],axis=1, inplace=True)"
      ],
      "execution_count": null,
      "outputs": []
    },
    {
      "cell_type": "code",
      "metadata": {
        "colab": {
          "base_uri": "https://localhost:8080/",
          "height": 204
        },
        "id": "1jcj56BDkJWx",
        "outputId": "99258e6b-0eff-44a0-ff40-8f971b32e591"
      },
      "source": [
        "pred = pd.DataFrame(reg.predict(p_housing))\n",
        "# print(classifier.predict(sc.transform([[30,87000]])))\n",
        "pred.head()\n"
      ],
      "execution_count": null,
      "outputs": [
        {
          "output_type": "execute_result",
          "data": {
            "text/html": [
              "<div>\n",
              "<style scoped>\n",
              "    .dataframe tbody tr th:only-of-type {\n",
              "        vertical-align: middle;\n",
              "    }\n",
              "\n",
              "    .dataframe tbody tr th {\n",
              "        vertical-align: top;\n",
              "    }\n",
              "\n",
              "    .dataframe thead th {\n",
              "        text-align: right;\n",
              "    }\n",
              "</style>\n",
              "<table border=\"1\" class=\"dataframe\">\n",
              "  <thead>\n",
              "    <tr style=\"text-align: right;\">\n",
              "      <th></th>\n",
              "      <th>0</th>\n",
              "    </tr>\n",
              "  </thead>\n",
              "  <tbody>\n",
              "    <tr>\n",
              "      <th>0</th>\n",
              "      <td>364648.730</td>\n",
              "    </tr>\n",
              "    <tr>\n",
              "      <th>1</th>\n",
              "      <td>860396.780</td>\n",
              "    </tr>\n",
              "    <tr>\n",
              "      <th>2</th>\n",
              "      <td>1085447.814</td>\n",
              "    </tr>\n",
              "    <tr>\n",
              "      <th>3</th>\n",
              "      <td>2280075.740</td>\n",
              "    </tr>\n",
              "    <tr>\n",
              "      <th>4</th>\n",
              "      <td>711477.922</td>\n",
              "    </tr>\n",
              "  </tbody>\n",
              "</table>\n",
              "</div>"
            ],
            "text/plain": [
              "             0\n",
              "0   364648.730\n",
              "1   860396.780\n",
              "2  1085447.814\n",
              "3  2280075.740\n",
              "4   711477.922"
            ]
          },
          "metadata": {
            "tags": []
          },
          "execution_count": 19
        }
      ]
    },
    {
      "cell_type": "code",
      "metadata": {
        "id": "V572DMJXKshZ"
      },
      "source": [
        "pred.to_csv('pred.csv')"
      ],
      "execution_count": null,
      "outputs": []
    },
    {
      "cell_type": "code",
      "metadata": {
        "colab": {
          "base_uri": "https://localhost:8080/"
        },
        "id": "KWr7ItHrAjae",
        "outputId": "df0699f7-187a-4ac2-8da2-2fbf41817faf"
      },
      "source": [
        "len(pred)"
      ],
      "execution_count": null,
      "outputs": [
        {
          "output_type": "execute_result",
          "data": {
            "text/plain": [
              "1613"
            ]
          },
          "metadata": {
            "tags": []
          },
          "execution_count": 42
        }
      ]
    }
  ]
}